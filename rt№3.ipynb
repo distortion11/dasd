{
 "cells": [
  {
   "cell_type": "markdown",
   "metadata": {},
   "source": [
    "# Код основной части программы"
   ]
  },
  {
   "cell_type": "code",
   "execution_count": 32,
   "metadata": {},
   "outputs": [],
   "source": [
    "import  sys\n",
    "\n",
    "import numpy as np\n",
    "import matplotlib.pyplot as plt\n",
    "\n",
    "if __name__ == '__main__':\n",
    "    N,Time_C,Mode,T_1_10,S_1_10,System_state = values()"
   ]
  },
  {
   "cell_type": "markdown",
   "metadata": {},
   "source": [
    "#### 1 функция - получения всех значений из БД, кроме тех где system_state = false"
   ]
  },
  {
   "cell_type": "code",
   "execution_count": 30,
   "metadata": {},
   "outputs": [],
   "source": [
    "def values():\n",
    "    filename = \"zadacha2.csv\"\n",
    "    i = 0\n",
    "    f = open(filename)\n",
    "    N = []  #номер\n",
    "    Time_C = [] #время отсчёта\n",
    "    Mode = [] # режим работы\n",
    "    T_1 = []  # Температуры блоков\n",
    "    T_2 = []\n",
    "    T_3 = []\n",
    "    T_4 = []\n",
    "    T_5 = []\n",
    "    T_6 = []\n",
    "    T_7 = []\n",
    "    T_8 = []\n",
    "    T_9 = []\n",
    "    T_10 = []\n",
    "    S_1 = [] #состояния каждого из 10 блоков\n",
    "    S_2 = []\n",
    "    S_3 = []\n",
    "    S_4 = []\n",
    "    S_5 = []\n",
    "    S_6 = []\n",
    "    S_7 = []\n",
    "    S_9 = []\n",
    "    S_8 = []\n",
    "    S_10 = []\n",
    "    System_state = []#состояния системы\n",
    "    for elem in f:\n",
    "        N_i=elem.split(\";\")[1]\n",
    "        Time_C_i= elem.split(\";\")[2]\n",
    "        if i == 0:  # скип первой строчки\n",
    "            i = 1\n",
    "            continue\n",
    "        if  elem.split(\";\")[24] == \"False\\n\":\n",
    "            continue\n",
    "        N.append(int(N_i))\n",
    "        Time_C.append(int(Time_C_i))\n",
    "        Mode.append(int(elem.split(\";\")[3]))\n",
    "        T_1.append(float(elem.split(\";\")[4]))\n",
    "        T_2.append(float(elem.split(\";\")[5]))\n",
    "        T_3.append(float(elem.split(\";\")[6]))\n",
    "        T_4.append(float(elem.split(\";\")[7]))\n",
    "        T_5.append(float(elem.split(\";\")[8]))\n",
    "        T_6.append(float(elem.split(\";\")[9]))\n",
    "        T_7.append(float(elem.split(\";\")[10]))\n",
    "        T_8.append(float(elem.split(\";\")[11]))\n",
    "        T_9.append(float(elem.split(\";\")[12]))\n",
    "        T_10.append(float(elem.split(\";\")[13]))\n",
    "        S_1.append(elem.split(\";\")[14])\n",
    "        S_2.append(elem.split(\";\")[15])\n",
    "        S_3.append(elem.split(\";\")[16])\n",
    "        S_4.append(elem.split(\";\")[17])\n",
    "        S_5.append(elem.split(\";\")[18])\n",
    "        S_6.append(elem.split(\";\")[19])\n",
    "        S_7.append(elem.split(\";\")[20])\n",
    "        S_8.append(elem.split(\";\")[21])\n",
    "        S_9.append(elem.split(\";\")[22])\n",
    "        S_10.append(elem.split(\";\")[23])\n",
    "        System_state.append(elem.split(\";\")[24])\n",
    "\n",
    "\n",
    "    T_1_10 = [T_1,T_2,T_3,T_4,T_5,T_6,T_7,T_8,T_9,T_10]\n",
    "    S_1_10 = [S_1, S_2, S_3, S_4, S_5, S_6, S_7, S_8,S_9, S_10]\n",
    "    return [N,Time_C,Mode,T_1_10,S_1_10,System_state]"
   ]
  },
  {
   "cell_type": "markdown",
   "metadata": {},
   "source": [
    "#### вторая и третия функция  - автокореллиация и её построение  \n",
    "<font color = \"green\"> Автокорреляция — статистическая взаимосвязь между последовательностями величин одного ряда, взятыми со сдвигом,по её результат видно что температурный блок не связан с сам собой по смещению ( глупость написал наверное)</font>"
   ]
  },
  {
   "cell_type": "code",
   "execution_count": 35,
   "metadata": {},
   "outputs": [
    {
     "data": {
      "image/png": "[encoded data removed]",
      "text/plain": [
       "<Figure size 432x288 with 1 Axes>"
      ]
     },
     "metadata": {
      "needs_background": "light"
     },
     "output_type": "display_data"
    }
   ],
   "source": [
    "def autocorrelation(t_1_10):  # автокореллиация c учётом не работющих блоков\n",
    "\n",
    "    result = [[],[],[],[],[],[],[],[],[],[]]\n",
    "    for i in range (0,10):\n",
    "        n = len(t_1_10[i])\n",
    "        x=t_1_10[i]\n",
    "        variance = np.var(x)\n",
    "        x = x-np.mean(x)\n",
    "        r = np.correlate(x, x, mode = 'full')\n",
    "\n",
    "        result[i] = r/(variance*n)\n",
    "    return result\n",
    "\n",
    "def plot_autocorrelation(T_1_10_acf):\n",
    "    plt.plot(T_1_10_acf,\"black\")\n",
    "    plt.title(\"Автокоррелиация\")\n",
    "    plt.show()\n",
    "\n",
    "#-------------------------------------\n",
    "    \n",
    "T_1_10_acf = autocorrelation(T_1_10)\n",
    "   #постороение графика для 5 температурного блока\n",
    "plot_autocorrelation(T_1_10_acf[4])"
   ]
  },
  {
   "cell_type": "markdown",
   "metadata": {},
   "source": [
    "#### Четвёрта функция - определение границ включения\n",
    "<font color = \"green\">проведя Анализ для границ температу в каждом из режимов я сделал следущие выводы\n",
    "    <br> 1) температурные границы для 1 и 2 режима работы очень близки к друг другу </br>\n",
    "    <br>2) для 4 режима работы у всех блоков порог включения примерно равен 32 градусам , а порог выключения примерно равен 62 градусам </br> </font>"
   ]
  },
  {
   "cell_type": "code",
   "execution_count": null,
   "metadata": {},
   "outputs": [],
   "source": [
    "def granica(mode,T):#так как я отбросил все результаты где состояние системы было False  , границы будут\n",
    "    #определяться min и max элементами для каждого из режимов работы\n",
    "\n",
    "    T_m1 = []\n",
    "    T_m2 = []\n",
    "    T_m4 = []\n",
    "    T_m3 = []\n",
    "    T_m0 = []\n",
    "\n",
    "    for i in range (0,len(mode)-1):\n",
    "        if mode[i] == 1:\n",
    "            T_m1.append(T[i])\n",
    "        if mode[i] == 2:\n",
    "            T_m2.append(T[i])\n",
    "        if mode[i] == 3:\n",
    "            T_m3.append(T[i])\n",
    "        if mode[i] == 4:\n",
    "            T_m4.append(T[i])\n",
    "        if mode[i] == 0:\n",
    "            T_m0.append(T[i])\n",
    "\n",
    "\n",
    "    print ('''Пороги включения\n",
    "       1 режим работы - {0} - {1}\n",
    "       2 режим работы - {2} - {3}\n",
    "       3 режим работы - {4} - {5}\n",
    "       4 режим работы - {6} - {7}\n",
    "       0 режим работы - {8} - {9}'''.format(min(T_m1),max(T_m1),min(T_m2), max(T_m2),min(T_m3),max(T_m3),min(T_m4),max(T_m4),min(T_m0),max(T_m0)))\n",
    "\n",
    "\n",
    "for i in range (9):\n",
    "    print(i,\"-ый блок\")\n",
    "    granica(Mode,T_1_10[i])"
   ]
  },
  {
   "cell_type": "markdown",
   "metadata": {},
   "source": [
    "#### пятаная функция - спектральный анализ"
   ]
  },
  {
   "cell_type": "code",
   "execution_count": 33,
   "metadata": {},
   "outputs": [
    {
     "data": {
      "image/png": "[encoded data removed]",
      "text/plain": [
       "<Figure size 864x432 with 1 Axes>"
      ]
     },
     "metadata": {},
     "output_type": "display_data"
    }
   ],
   "source": [
    "def spectral_analyzies(T):\n",
    "    #исхожу их того что чем больше температура тем длинее длина волны\n",
    "    Min = min(T)\n",
    "    Max = max(T)\n",
    "    h = (Max - Min)/7 #КОЖЗГСФ\n",
    "    Colors = [0*i for i in range (0,7)]\n",
    "    x      = [0 * i for i in range(0, 7)]\n",
    "    for elem in T:\n",
    "        b=int((elem-Min)/h)\n",
    "        if b == 7:\n",
    "            b = b - 1\n",
    "        Colors[b] += 1\n",
    "    for i in range(0,7):\n",
    "        x[i]=50*i+350\n",
    "\n",
    "    fig, ax = plt.subplots()\n",
    "    ax.bar([\"К\",\"O\",\"Ж\",\"З\",\"Г\",\"С\",\"Ф\"],Colors,color = [\"Red\",\"Orange\",\"Yellow\",\"green\",\"cyan\",\"Blue\",\"purple\"])\n",
    "\n",
    "\n",
    "    ax.set_facecolor('seashell')\n",
    "    fig.set_facecolor('floralwhite')\n",
    "    fig.set_figwidth(12)  # ширина Figure\n",
    "    fig.set_figheight(6)  # высота Figure\n",
    "\n",
    "    plt.xlabel(\"Длина волны\")\n",
    "    plt.ylabel(\"Количество источников с данной длиной волны\")\n",
    "    plt.title(\"Спектральный анализ\")\n",
    "    plt.show()\n",
    "    \n",
    "\n",
    "    \n",
    "spectral_analyzies(T_1_10[1])\n"
   ]
  },
  {
   "cell_type": "markdown",
   "metadata": {},
   "source": [
    "#### Шестая функция - влияние соседних блоков друг на друга (коррелиация)\n",
    "<font color = \"green\">по ней можно понять  , как соседние блоки связаны между собой, если коэф смещается к 1 то это значит что СВ взаимосвязаны, \n",
    "в нашем случае коэфицент практические всегда близок к 0.1 , что говорит об существовании связи между соседними блоками </font>"
   ]
  },
  {
   "cell_type": "code",
   "execution_count": null,
   "metadata": {},
   "outputs": [],
   "source": [
    "\n",
    "def cross_correleation(first,second): \n",
    "    a = (first - np.mean(first)) / (np.std(first) * len(first))\n",
    "    b = (second - np.mean(second)) / (np.std(second))\n",
    "    plt.plot(np.correlate(a,b,\"full\"),\"o\")\n",
    "    plt.xlabel(\"\")\n",
    "    print(len(first),\"=\",len(second))\n",
    "    \n",
    "    \n",
    "cross_correleation(T_1_10[9],T_1_10[8])"
   ]
  },
  {
   "cell_type": "markdown",
   "metadata": {},
   "source": [
    "#### Седьмая функция получение всех элементов БД"
   ]
  },
  {
   "cell_type": "code",
   "execution_count": 3,
   "metadata": {},
   "outputs": [],
   "source": [
    "def values_with_errors():  #получение всех значаний из таблицы\n",
    "    filename = \"zadacha2.csv\"\n",
    "    i = 0\n",
    "    f = open(filename)\n",
    "    N = []  #номер\n",
    "    Time_C = [] #время отсчёта\n",
    "    Mode = [] # режим работы\n",
    "    T_1 = []  # Температуры блоков\n",
    "    T_2 = []\n",
    "    T_3 = []\n",
    "    T_4 = []\n",
    "    T_5 = []\n",
    "    T_6 = []\n",
    "    T_7 = []\n",
    "    T_8 = []\n",
    "    T_9 = []\n",
    "    T_10 = []\n",
    "    S_1 = [] #состояния каждого из 10 блоков\n",
    "    S_2 = []\n",
    "    S_3 = []\n",
    "    S_4 = []\n",
    "    S_5 = []\n",
    "    S_6 = []\n",
    "    S_7 = []\n",
    "    S_9 = []\n",
    "    S_8 = []\n",
    "    S_10 = []\n",
    "    System_state = []#состояния системы\n",
    "    for elem in f:\n",
    "        N_i=elem.split(\";\")[1]\n",
    "        Time_C_i= elem.split(\";\")[2]\n",
    "        if i == 0:  # скип первой строчки\n",
    "            i = 1\n",
    "            continue\n",
    "        N.append(int(N_i))\n",
    "        Time_C.append(int(Time_C_i))\n",
    "        Mode.append(int(elem.split(\";\")[3]))\n",
    "        T_1.append(float(elem.split(\";\")[4]))\n",
    "        T_2.append(float(elem.split(\";\")[5]))\n",
    "        T_3.append(float(elem.split(\";\")[6]))\n",
    "        T_4.append(float(elem.split(\";\")[7]))\n",
    "        T_5.append(float(elem.split(\";\")[8]))\n",
    "        T_6.append(float(elem.split(\";\")[9]))\n",
    "        T_7.append(float(elem.split(\";\")[10]))\n",
    "        T_8.append(float(elem.split(\";\")[11]))\n",
    "        T_9.append(float(elem.split(\";\")[12]))\n",
    "        T_10.append(float(elem.split(\";\")[13]))\n",
    "        S_1.append(elem.split(\";\")[14])\n",
    "        S_2.append(elem.split(\";\")[15])\n",
    "        S_3.append(elem.split(\";\")[16])\n",
    "        S_4.append(elem.split(\";\")[17])\n",
    "        S_5.append(elem.split(\";\")[18])\n",
    "        S_6.append(elem.split(\";\")[19])\n",
    "        S_7.append(elem.split(\";\")[20])\n",
    "        S_8.append(elem.split(\";\")[21])\n",
    "        S_9.append(elem.split(\";\")[22])\n",
    "        S_10.append(elem.split(\";\")[23])\n",
    "        System_state.append(elem.split(\";\")[24])\n",
    "\n",
    "\n",
    "    T_1_10 = [T_1,T_2,T_3,T_4,T_5,T_6,T_7,T_8,T_9,T_10]\n",
    "    S_1_10 = [S_1, S_2, S_3, S_4, S_5, S_6, S_7, S_8,S_9, S_10]\n",
    "    return [N,Time_C,Mode,T_1_10,S_1_10,System_state]\n",
    "\n",
    "\n",
    "N_f,Time_C_f,Mode_f,T_1_10_f,S_1_10_f,System_state_f = values_with_errors()"
   ]
  },
  {
   "cell_type": "markdown",
   "metadata": {},
   "source": [
    "#### Восьмая функция - восстановение логической схемы\n",
    "\n",
    "* посмотрев на таблицу истинности представленную ниже можно сказать , что система работает тогда когда все элементы работают, или не работает только 1"
   ]
  },
  {
   "cell_type": "code",
   "execution_count": null,
   "metadata": {},
   "outputs": [],
   "source": [
    "def logick_schem(S_1_10_f,System_state_f):\n",
    "    s1 = np.array(S_1_10_f[0])\n",
    "    s2 = np.array(S_1_10_f[1])\n",
    "    s3 = np.array(S_1_10_f[2])\n",
    "    s4 = np.array(S_1_10_f[3])\n",
    "    s5 = np.array(S_1_10_f[4])\n",
    "    s6 = np.array(S_1_10_f[5])\n",
    "    s7 = np.array(S_1_10_f[6])\n",
    "    s8 = np.array(S_1_10_f[7])\n",
    "    s9 = np.array(S_1_10_f[8])\n",
    "    s10 = np.array(S_1_10_f[9])\n",
    "    sf = np.array(System_state_f)\n",
    "    np.set_printoptions(threshold=sys.maxsize)\n",
    "    s_n = []\n",
    "    for i in range(len(s1)):\n",
    "        if [s1[i], s2[i], s3[i], s4[i], s5[i], s6[i], s7[i], s8[i],s9[i], s10[i], sf[i]] not in s_n:\n",
    "            s_n.append([s1[i], s2[i], s3[i], s4[i], s5[i], s6[i], s7[i], s8[i],s9[i], s10[i], sf[i]])\n",
    "\n",
    "    a = s_n[4][10]\n",
    "   \n",
    "    for i in range(len(s_n)):\n",
    "        for j in range(0,10):\n",
    "            if s_n[i][j] == \"True\":\n",
    "                s_n[i][j]= int(1)\n",
    "            if s_n[i][j] == \"False\":\n",
    "                s_n[i][j]= 0\n",
    "    print(\"   s1  s2  s3  s4  s5  s6  s7  s8  s9  s10  sf\")\n",
    "    print(np.array(s_n)[0:25,:])\n",
    "    #a = np.array([[1,2,3],[4,5,6],[7,8,9]])\n",
    "    #print(a[0,:])\n",
    "     \n",
    "logick_schem(S_1_10_f,System_state_f)"
   ]
  },
  {
   "cell_type": "markdown",
   "metadata": {},
   "source": [
    "#### Функция построения времянного ряда для работающих блоков\n",
    "<font color = \"green\">Из визуального анализа данных графиков можно заключить, что все ряды для температур представляют собой\n",
    "циклические процессы нагрева и остывания, причем большую часть времени в рамках датасета температуры блоков\n",
    "совершают близкое к периодическому движение со слабо меняющимся от цикла к циклу периодом</font>"
   ]
  },
  {
   "cell_type": "code",
   "execution_count": null,
   "metadata": {},
   "outputs": [],
   "source": [
    "def plot_time_row(T_1_10,T):\n",
    "    \n",
    "    plt.plot(T,T_1_10)\n",
    "    plt.title(\"температурный ряд\")\n",
    "    plt.xlabel(\"времянной отсчёт\")\n",
    "    plt.ylabel(\"график температурного ряда\")\n",
    "    plt.show()\n",
    "\n",
    "a=5 #выбор нужного по счёту ряда ,ОДЗ  1 - 10  \n",
    "\n",
    "plot_time_row(T_1_10[1],Time_C)"
   ]
  },
  {
   "cell_type": "markdown",
   "metadata": {},
   "source": [
    "#### Прогназирование температурного ряда на 10 отсчётов вперёд методом Arima. Ресурс - https://habr.com/ru/company/ods/blog/327242/\n",
    "\n",
    "Cначала нужно проверить является ли тренд стационарным с помощью критерия Дики-Фуллера, а потом уже использовать метод ARIMA\n"
   ]
  },
  {
   "cell_type": "code",
   "execution_count": 51,
   "metadata": {},
   "outputs": [
    {
     "name": "stdout",
     "output_type": "stream",
     "text": [
      "Критерий Дики-Фуллера = 1.0022193510835745e-24 \n",
      "Средняя точность предсказания в процентах на последние 200 элементов ряда  98.22147858601686\n"
     ]
    }
   ],
   "source": [
    "import statsmodels.api as sm\n",
    "from statsmodels.tsa.arima_model import ARIMA\n",
    "T = T_1_10_f[1] \n",
    "print('Критерий Дики-Фуллера = {0} '.format(sm.tsa.stattools.adfuller(T)[1]))\n",
    "model = ARIMA(T, order=(6, 0, 1))\n",
    "model_fit = model.fit(disp=False)\n",
    "# Теперь я мыслю так, чтобы достичь 80 процентов точности нужно построить предсказание на 200 последних элементов \n",
    "# и проверить точность предсказания, меняя параметры метода до тех пор пока точность не будет равна 80, потом с этими же \n",
    "#параметрами предсказать на 10 шагов вперёд\n",
    "training = model_fit.predict(len(T)-199, len(T))\n",
    "b = np.array(T)\n",
    "\n",
    "\n",
    "test = b[len(T)-200:len(T)]\n",
    "\n",
    "x= 100-abs(((training-test)/test)*100)\n",
    "print(\"Средняя точность предсказания в процентах на последние 200 элементов ряда \",np.mean(x))\n",
    "#plt.plot(a)\n",
    "#=[i for i in range (len(b),len(b)+11)]\n",
    "#lt.plot(x,yhat,'green')\n",
    "#lt.show()"
   ]
  },
  {
   "cell_type": "markdown",
   "metadata": {},
   "source": [
    "Как видно точность выше требуемой, так что это не страшно"
   ]
  },
  {
   "cell_type": "code",
   "execution_count": 53,
   "metadata": {},
   "outputs": [
    {
     "data": {
      "image/png": "[encoded data removed]",
      "text/plain": [
       "<Figure size 432x288 with 1 Axes>"
      ]
     },
     "metadata": {
      "needs_background": "light"
     },
     "output_type": "display_data"
    }
   ],
   "source": [
    "yhat = model_fit.predict(len(T), len(T)+10)\n",
    "plt.plot(a)\n",
    "x=[i for i in range (len(b),len(b)+11)]\n",
    "plt.plot(x,yhat,'green')\n",
    "plt.show()"
   ]
  },
  {
   "cell_type": "code",
   "execution_count": null,
   "metadata": {},
   "outputs": [],
   "source": []
  }
 ],
 "metadata": {
  "kernelspec": {
   "display_name": "Python 3",
   "language": "python",
   "name": "python3"
  },
  "language_info": {
   "codemirror_mode": {
    "name": "ipython",
    "version": 3
   },
   "file_extension": ".py",
   "mimetype": "text/x-python",
   "name": "python",
   "nbconvert_exporter": "python",
   "pygments_lexer": "ipython3",
   "version": "3.8.2"
  }
 },
 "nbformat": 4,
 "nbformat_minor": 4
}
